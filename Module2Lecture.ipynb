{
  "nbformat": 4,
  "nbformat_minor": 0,
  "metadata": {
    "colab": {
      "provenance": [],
      "authorship_tag": "ABX9TyM/ekb6hNo6lEjAfq+zmC/w",
      "include_colab_link": true
    },
    "kernelspec": {
      "name": "python3",
      "display_name": "Python 3"
    },
    "language_info": {
      "name": "python"
    }
  },
  "cells": [
    {
      "cell_type": "markdown",
      "metadata": {
        "id": "view-in-github",
        "colab_type": "text"
      },
      "source": [
        "<a href=\"https://colab.research.google.com/github/AirPro/Adult-Income-Remake/blob/master/Module2Lecture.ipynb\" target=\"_parent\"><img src=\"https://colab.research.google.com/assets/colab-badge.svg\" alt=\"Open In Colab\"/></a>"
      ]
    },
    {
      "cell_type": "markdown",
      "source": [
        "# Hand On Lecture Coding for Module 2\n",
        "## Artificial Neural Network\n",
        "### Robert Freid - Deep Learning Class \n",
        "Date: January 24, 2023"
      ],
      "metadata": {
        "id": "M8KhQaHO9Qna"
      }
    },
    {
      "cell_type": "code",
      "source": [
        "# import statements\n",
        "import numpy as py\n",
        "import matplotlib.pyplot as plt"
      ],
      "metadata": {
        "id": "js9hJeQm5Ira"
      },
      "execution_count": 21,
      "outputs": []
    },
    {
      "cell_type": "code",
      "execution_count": 22,
      "metadata": {
        "colab": {
          "base_uri": "https://localhost:8080/"
        },
        "id": "BoZ3qnPr2apQ",
        "outputId": "191b9d30-ac83-4180-b414-9a603d92bd34"
      },
      "outputs": [
        {
          "output_type": "stream",
          "name": "stdout",
          "text": [
            "X_train shape =  (60000, 28, 28)\n",
            "y_train shape =  (60000,)\n",
            "X_test shape =  (10000, 28, 28)\n",
            "y_test shape =  (10000,)\n"
          ]
        }
      ],
      "source": [
        "# import the MNIST dataset from KARAS\n",
        "from tensorflow.keras.datasets import mnist\n",
        "\n",
        "# save the training data in X_train and X_test and the testing data in y_train and y_test\n",
        "(X_train, y_train), (X_test, y_test) = mnist.load_data()\n",
        "\n",
        "# print the imported datasets to verify import\n",
        "print(\"X_train shape = \", X_train.shape)\n",
        "print(\"y_train shape = \", y_train.shape)\n",
        "print(\"X_test shape = \", X_test.shape)\n",
        "print(\"y_test shape = \", y_test.shape)"
      ]
    },
    {
      "cell_type": "markdown",
      "source": [
        "## Plot random images from the MINST dataset"
      ],
      "metadata": {
        "id": "gBMA8E8ySqiO"
      }
    },
    {
      "cell_type": "code",
      "source": [
        "plt.imshow(X_train[0], cmap = plt.get_cmap('gray'))\n",
        "plt.show()"
      ],
      "metadata": {
        "colab": {
          "base_uri": "https://localhost:8080/",
          "height": 265
        },
        "id": "5geikGs65mmg",
        "outputId": "1f9ffda3-4294-4a0d-d79a-e9e315e2ff73"
      },
      "execution_count": 23,
      "outputs": [
        {
          "output_type": "display_data",
          "data": {
            "text/plain": [
              "<Figure size 432x288 with 1 Axes>"
            ],
            "image/png": "[encoded data removed]"
          },
          "metadata": {
            "needs_background": "light"
          }
        }
      ]
    },
    {
      "cell_type": "markdown",
      "source": [
        "# Create Artificial Neural Network Model \n",
        "## Step 1: Preparation of data for input"
      ],
      "metadata": {
        "id": "oLxYynyX8mPl"
      }
    },
    {
      "cell_type": "code",
      "source": [
        "# reshape 60,000 28 x 28 matrices into 60,000 784-length vectors (28 x 28 = 784)\n",
        "X_train = X_train.reshape(60000, 784)\n",
        "# reshape 10000 28 x 28 matrices into 10000 784-length vectors (28 x 28 = 784)\n",
        "X_test = X_test.reshape(10000, 784)\n",
        "\n",
        "# change integers into 32-bit floating point numbers\n",
        "X_train = X_train.astype('float32')\n",
        "X_test = X_test.astype('float32')\n",
        "\n",
        "# normalize each value for each pixel for the entire vector for each input\n",
        "X_train /= 255\n",
        "X_test /= 255\n",
        "# by dividing by 255, we will end up with all values being between 0 and 255\n",
        "\n",
        "# print out the values for examination\n",
        "print(\"Training matrix shape = \", X_train.shape)\n",
        "print(\"Testing matrix shape = \", X_test.shape)"
      ],
      "metadata": {
        "colab": {
          "base_uri": "https://localhost:8080/"
        },
        "id": "uVxJjYqS9D-V",
        "outputId": "8f0ddf96-dd19-4b09-a0bf-6bb8630a08df"
      },
      "execution_count": 24,
      "outputs": [
        {
          "output_type": "stream",
          "name": "stdout",
          "text": [
            "Training matrix shape =  (60000, 784)\n",
            "Testing matrix shape =  (10000, 784)\n"
          ]
        }
      ]
    },
    {
      "cell_type": "markdown",
      "source": [
        "## Step 2: Create the ANN classification Model"
      ],
      "metadata": {
        "id": "ZHXSNtBfMlNw"
      }
    },
    {
      "cell_type": "code",
      "source": [
        "from tensorflow.keras import Sequential\n",
        "from tensorflow.keras.layers import Dense, Dropout, Activation\n",
        "\n",
        "# create the model\n",
        "model = Sequential()\n",
        "\n",
        "# add the first layer of of the model\n",
        "model.add(Dense(512, input_shape= (784,)))\n",
        "\n",
        "# to enhance the model performance, we add some activation and dropout layers\n",
        "model.add(Activation('relu'))\n",
        "\n",
        "# add a dropout layer\n",
        "model.add(Dropout(0.2))\n",
        "\n",
        "# add a second dense layer\n",
        "model.add(Dense(512))\n",
        "model.add(Activation('relu'))\n",
        "model.add(Dropout(0.2))\n",
        "\n",
        "# create the final layer\n",
        "model.add(Dense(10))\n",
        "model.add(Activation('softmax'))\n",
        "\n",
        "model.summary()\n"
      ],
      "metadata": {
        "colab": {
          "base_uri": "https://localhost:8080/"
        },
        "id": "0zPEZHrpMrzE",
        "outputId": "e36c0f03-6d10-4af6-c2a8-d851e7fd6b40"
      },
      "execution_count": 25,
      "outputs": [
        {
          "output_type": "stream",
          "name": "stdout",
          "text": [
            "Model: \"sequential_2\"\n",
            "_________________________________________________________________\n",
            " Layer (type)                Output Shape              Param #   \n",
            "=================================================================\n",
            " dense_6 (Dense)             (None, 512)               401920    \n",
            "                                                                 \n",
            " activation_6 (Activation)   (None, 512)               0         \n",
            "                                                                 \n",
            " dropout_4 (Dropout)         (None, 512)               0         \n",
            "                                                                 \n",
            " dense_7 (Dense)             (None, 512)               262656    \n",
            "                                                                 \n",
            " activation_7 (Activation)   (None, 512)               0         \n",
            "                                                                 \n",
            " dropout_5 (Dropout)         (None, 512)               0         \n",
            "                                                                 \n",
            " dense_8 (Dense)             (None, 10)                5130      \n",
            "                                                                 \n",
            " activation_8 (Activation)   (None, 10)                0         \n",
            "                                                                 \n",
            "=================================================================\n",
            "Total params: 669,706\n",
            "Trainable params: 669,706\n",
            "Non-trainable params: 0\n",
            "_________________________________________________________________\n"
          ]
        }
      ]
    },
    {
      "cell_type": "code",
      "source": [
        "from keras.utils import np_utils\n",
        "\n",
        "# number of unique digits in the mnist dataset\n",
        "np_classes = 10 \n",
        "\n",
        "# convert thte Y-train and y_test to one-hot encoding\n",
        "y_train = np_utils.to_categorical(y_train, np_classes)\n",
        "y_test = np_utils.to_categorical(y_test, np_classes)"
      ],
      "metadata": {
        "id": "pgAGQzBiQidD"
      },
      "execution_count": 26,
      "outputs": []
    },
    {
      "cell_type": "markdown",
      "source": [
        "## Set the Model compilar\n"
      ],
      "metadata": {
        "id": "IXWD3p2OGnJN"
      }
    },
    {
      "cell_type": "code",
      "source": [
        "# Use the Adam optimizer for learning, options include loss, optimizer, and metrics\n",
        "model.compile(loss='categorical_crossentropy', optimizer='adam', metrics=['accuracy'])"
      ],
      "metadata": {
        "id": "W6ZkZ3bfIDpB"
      },
      "execution_count": 27,
      "outputs": []
    },
    {
      "cell_type": "markdown",
      "source": [
        "## Train the ANN model"
      ],
      "metadata": {
        "id": "9POFhSZqPP9N"
      }
    },
    {
      "cell_type": "code",
      "source": [
        "history = model.fit(X_train, y_train, batch_size=128, epochs = 5, verbose = 1)"
      ],
      "metadata": {
        "colab": {
          "base_uri": "https://localhost:8080/"
        },
        "id": "jVeegfnVG_mV",
        "outputId": "bfb1be1f-c691-4843-fa51-7060947f64e0"
      },
      "execution_count": 28,
      "outputs": [
        {
          "output_type": "stream",
          "name": "stdout",
          "text": [
            "Epoch 1/5\n",
            "469/469 [==============================] - 8s 17ms/step - loss: 0.2509 - accuracy: 0.9250\n",
            "Epoch 2/5\n",
            "469/469 [==============================] - 8s 16ms/step - loss: 0.1015 - accuracy: 0.9690\n",
            "Epoch 3/5\n",
            "469/469 [==============================] - 8s 16ms/step - loss: 0.0708 - accuracy: 0.9782\n",
            "Epoch 4/5\n",
            "469/469 [==============================] - 8s 16ms/step - loss: 0.0533 - accuracy: 0.9830\n",
            "Epoch 5/5\n",
            "469/469 [==============================] - 8s 17ms/step - loss: 0.0468 - accuracy: 0.9846\n"
          ]
        }
      ]
    },
    {
      "cell_type": "markdown",
      "source": [
        "## Evaluate (TEST) the ANN classifer"
      ],
      "metadata": {
        "id": "-cYC5pZcK-kk"
      }
    },
    {
      "cell_type": "code",
      "source": [
        "score = model.evaluate(X_test, y_test)\n",
        "\n",
        "print(\"Test loss value = \", score[0])\n",
        "print(\"Test accuracy = \", score[1])"
      ],
      "metadata": {
        "colab": {
          "base_uri": "https://localhost:8080/"
        },
        "id": "IvJbSsFpLD_l",
        "outputId": "d9652b9b-a55d-45e8-adc5-7c62c0e78e83"
      },
      "execution_count": 29,
      "outputs": [
        {
          "output_type": "stream",
          "name": "stdout",
          "text": [
            "313/313 [==============================] - 1s 4ms/step - loss: 0.0690 - accuracy: 0.9786\n",
            "Test loss value =  0.06902448832988739\n",
            "Test accuracy =  0.978600025177002\n"
          ]
        }
      ]
    },
    {
      "cell_type": "markdown",
      "source": [
        "## Plot the Training accuracy process each epoch"
      ],
      "metadata": {
        "id": "mVF9ZpkGL0TF"
      }
    },
    {
      "cell_type": "code",
      "source": [
        "history.history"
      ],
      "metadata": {
        "colab": {
          "base_uri": "https://localhost:8080/"
        },
        "id": "7yfWOh27L5GY",
        "outputId": "e9085442-6187-4a27-fdd6-f7c1caba0737"
      },
      "execution_count": 30,
      "outputs": [
        {
          "output_type": "execute_result",
          "data": {
            "text/plain": [
              "{'loss': [0.250861793756485,\n",
              "  0.10151815414428711,\n",
              "  0.07077673077583313,\n",
              "  0.05332367867231369,\n",
              "  0.046778593212366104],\n",
              " 'accuracy': [0.9249666929244995,\n",
              "  0.9690499901771545,\n",
              "  0.9782000184059143,\n",
              "  0.9829999804496765,\n",
              "  0.9846000075340271]}"
            ]
          },
          "metadata": {},
          "execution_count": 30
        }
      ]
    },
    {
      "cell_type": "code",
      "source": [
        "plt.plot(history.history['accuracy'])\n",
        "plt.xlabel('epoch', fontsize = 16)\n",
        "plt.ylabel('accuracy', fontsize = 16)\n",
        "plt.show()"
      ],
      "metadata": {
        "colab": {
          "base_uri": "https://localhost:8080/",
          "height": 284
        },
        "id": "IbS-R2UtiWVf",
        "outputId": "89f82f08-76c9-44e3-9dd3-ae57e770b8c5"
      },
      "execution_count": 31,
      "outputs": [
        {
          "output_type": "display_data",
          "data": {
            "text/plain": [
              "<Figure size 432x288 with 1 Axes>"
            ],
            "image/png": "[encoded data removed]"
          },
          "metadata": {
            "needs_background": "light"
          }
        }
      ]
    },
    {
      "cell_type": "code",
      "source": [
        "plt.plot(history.history['loss'])\n",
        "plt.xlabel('epoch', fontsize = 16)\n",
        "plt.ylabel('accuracy', fontsize =16)\n",
        "plt.show()"
      ],
      "metadata": {
        "colab": {
          "base_uri": "https://localhost:8080/",
          "height": 284
        },
        "id": "1rl3iyJBi4Ir",
        "outputId": "24137f14-3292-4ae3-e7b3-060a08217dd3"
      },
      "execution_count": 32,
      "outputs": [
        {
          "output_type": "display_data",
          "data": {
            "text/plain": [
              "<Figure size 432x288 with 1 Axes>"
            ],
            "image/png": "[encoded data removed]"
          },
          "metadata": {
            "needs_background": "light"
          }
        }
      ]
    }
  ]
}